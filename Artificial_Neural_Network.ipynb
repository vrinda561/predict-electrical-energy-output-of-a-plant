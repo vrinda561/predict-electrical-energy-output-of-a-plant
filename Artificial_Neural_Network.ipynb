{
  "nbformat": 4,
  "nbformat_minor": 0,
  "metadata": {
    "colab": {
      "name": "Copy of Artificial Neural Network",
      "provenance": [],
      "collapsed_sections": [],
      "toc_visible": true,
      "include_colab_link": true
    },
    "kernelspec": {
      "name": "python3",
      "display_name": "Python 3"
    }
  },
  "cells": [
    {
      "cell_type": "markdown",
      "metadata": {
        "id": "view-in-github",
        "colab_type": "text"
      },
      "source": [
        "<a href=\"https://colab.research.google.com/github/vrinda561/predict-electrical-energy-output-of-a-plant/blob/main/Artificial_Neural_Network.ipynb\" target=\"_parent\"><img src=\"https://colab.research.google.com/assets/colab-badge.svg\" alt=\"Open In Colab\"/></a>"
      ]
    },
    {
      "cell_type": "markdown",
      "metadata": {
        "id": "3cbb7fRy-eyr"
      },
      "source": [
        "# Artificial Neural Network"
      ]
    },
    {
      "cell_type": "markdown",
      "metadata": {
        "id": "8sNDnxE2-pwE"
      },
      "source": [
        "### Importing the libraries"
      ]
    },
    {
      "cell_type": "code",
      "metadata": {
        "id": "sdmhpHbeOl4g"
      },
      "source": [
        "import pandas as pd\n",
        "import numpy as np\n",
        "import tensorflow as tf"
      ],
      "execution_count": 2,
      "outputs": []
    },
    {
      "cell_type": "code",
      "metadata": {
        "colab": {
          "base_uri": "https://localhost:8080/",
          "height": 35
        },
        "id": "4vDYfFojO5VY",
        "outputId": "2d701357-a260-4da8-fd20-b4b66430d3dc"
      },
      "source": [
        "tf.__version__"
      ],
      "execution_count": 3,
      "outputs": [
        {
          "output_type": "execute_result",
          "data": {
            "application/vnd.google.colaboratory.intrinsic+json": {
              "type": "string"
            },
            "text/plain": [
              "'2.5.0'"
            ]
          },
          "metadata": {
            "tags": []
          },
          "execution_count": 3
        }
      ]
    },
    {
      "cell_type": "markdown",
      "metadata": {
        "id": "AG3FQEch-yuA"
      },
      "source": [
        "## Part 1 - Data Preprocessing"
      ]
    },
    {
      "cell_type": "markdown",
      "metadata": {
        "id": "-4zq8Mza_D9O"
      },
      "source": [
        "### Importing the dataset"
      ]
    },
    {
      "cell_type": "code",
      "metadata": {
        "id": "Ok4FcXQlO4nx"
      },
      "source": [
        "dataset = pd.read_excel(\"Folds5x2_pp.xlsx\")\n",
        "x = dataset.iloc[:, 0:-1].values\n",
        "y = dataset.iloc[:,-1].values"
      ],
      "execution_count": 4,
      "outputs": []
    },
    {
      "cell_type": "markdown",
      "metadata": {
        "id": "VC6omXel_Up0"
      },
      "source": [
        "### Splitting the dataset into the Training set and Test set"
      ]
    },
    {
      "cell_type": "code",
      "metadata": {
        "id": "FFqD6FEyQS3F"
      },
      "source": [
        "from sklearn.model_selection import train_test_split\n",
        "x_train,x_test,y_train,y_test = train_test_split(x,y,test_size = 0.2, random_state=0)"
      ],
      "execution_count": 5,
      "outputs": []
    },
    {
      "cell_type": "markdown",
      "metadata": {
        "id": "_mSLlAT9_eyI"
      },
      "source": [
        "## Part 2 - Building the ANN"
      ]
    },
    {
      "cell_type": "markdown",
      "metadata": {
        "id": "CsBULd_f_wLY"
      },
      "source": [
        "### Initializing the ANN"
      ]
    },
    {
      "cell_type": "code",
      "metadata": {
        "id": "1vYxYxk0RSdw"
      },
      "source": [
        "ann = tf.keras.models.Sequential()"
      ],
      "execution_count": 6,
      "outputs": []
    },
    {
      "cell_type": "markdown",
      "metadata": {
        "id": "iitAFJS_ABUn"
      },
      "source": [
        "### Adding the input layer and the first hidden layer"
      ]
    },
    {
      "cell_type": "code",
      "metadata": {
        "id": "iVqZHNSdRcBE"
      },
      "source": [
        "ann.add(tf.keras.layers.Dense(units = 6, activation = 'relu'))"
      ],
      "execution_count": 9,
      "outputs": []
    },
    {
      "cell_type": "markdown",
      "metadata": {
        "id": "-lb4kK_wAKbs"
      },
      "source": [
        "### Adding the second hidden layer"
      ]
    },
    {
      "cell_type": "code",
      "metadata": {
        "id": "xF9ZC3vvRxVn"
      },
      "source": [
        "ann.add(tf.keras.layers.Dense(units =6, activation = 'relu'))"
      ],
      "execution_count": 10,
      "outputs": []
    },
    {
      "cell_type": "markdown",
      "metadata": {
        "id": "jwMOmKb3AdBY"
      },
      "source": [
        "### Adding the output layer"
      ]
    },
    {
      "cell_type": "code",
      "metadata": {
        "id": "bjM2Y1hJR_Zj"
      },
      "source": [
        "ann.add(tf.keras.layers.Dense(units =1,))"
      ],
      "execution_count": 11,
      "outputs": []
    },
    {
      "cell_type": "markdown",
      "metadata": {
        "id": "fq7e4fF6A1yy"
      },
      "source": [
        "## Part 3 - Training the ANN"
      ]
    },
    {
      "cell_type": "markdown",
      "metadata": {
        "id": "qDeylAs2An25"
      },
      "source": [
        "### Compiling the ANN"
      ]
    },
    {
      "cell_type": "code",
      "metadata": {
        "id": "gg_lf1s5SUOc"
      },
      "source": [
        "ann.compile(optimizer ='adam', loss = 'mean_squared_error')"
      ],
      "execution_count": 12,
      "outputs": []
    },
    {
      "cell_type": "markdown",
      "metadata": {
        "id": "YjVuiybYOo7r"
      },
      "source": [
        "### Training the ANN model on the Training set"
      ]
    },
    {
      "cell_type": "code",
      "metadata": {
        "colab": {
          "base_uri": "https://localhost:8080/"
        },
        "id": "1ZKkK82ESs8W",
        "outputId": "6902fc48-e8e0-4741-be58-1c933fe46071"
      },
      "source": [
        "ann.fit(x_train,y_train, batch_size = 32, epochs =100)"
      ],
      "execution_count": 13,
      "outputs": [
        {
          "output_type": "stream",
          "text": [
            "Epoch 1/100\n",
            "240/240 [==============================] - 1s 2ms/step - loss: 83979.8438\n",
            "Epoch 2/100\n",
            "240/240 [==============================] - 0s 2ms/step - loss: 481.8678\n",
            "Epoch 3/100\n",
            "240/240 [==============================] - 0s 1ms/step - loss: 444.3430\n",
            "Epoch 4/100\n",
            "240/240 [==============================] - 0s 1ms/step - loss: 398.8737\n",
            "Epoch 5/100\n",
            "240/240 [==============================] - 0s 1ms/step - loss: 349.8112\n",
            "Epoch 6/100\n",
            "240/240 [==============================] - 0s 1ms/step - loss: 298.4792\n",
            "Epoch 7/100\n",
            "240/240 [==============================] - 0s 1ms/step - loss: 247.9954\n",
            "Epoch 8/100\n",
            "240/240 [==============================] - 0s 1ms/step - loss: 200.5724\n",
            "Epoch 9/100\n",
            "240/240 [==============================] - 1s 2ms/step - loss: 156.3799\n",
            "Epoch 10/100\n",
            "240/240 [==============================] - 0s 1ms/step - loss: 119.3419\n",
            "Epoch 11/100\n",
            "240/240 [==============================] - 0s 1ms/step - loss: 89.4632\n",
            "Epoch 12/100\n",
            "240/240 [==============================] - 0s 1ms/step - loss: 66.5795\n",
            "Epoch 13/100\n",
            "240/240 [==============================] - 0s 1ms/step - loss: 51.7402\n",
            "Epoch 14/100\n",
            "240/240 [==============================] - 0s 2ms/step - loss: 42.2795\n",
            "Epoch 15/100\n",
            "240/240 [==============================] - 0s 1ms/step - loss: 36.7710\n",
            "Epoch 16/100\n",
            "240/240 [==============================] - 0s 1ms/step - loss: 34.1239\n",
            "Epoch 17/100\n",
            "240/240 [==============================] - 0s 1ms/step - loss: 31.8403\n",
            "Epoch 18/100\n",
            "240/240 [==============================] - 0s 1ms/step - loss: 30.9482\n",
            "Epoch 19/100\n",
            "240/240 [==============================] - 0s 1ms/step - loss: 30.0320\n",
            "Epoch 20/100\n",
            "240/240 [==============================] - 0s 1ms/step - loss: 29.2990\n",
            "Epoch 21/100\n",
            "240/240 [==============================] - 0s 1ms/step - loss: 29.1397\n",
            "Epoch 22/100\n",
            "240/240 [==============================] - 0s 1ms/step - loss: 28.3011\n",
            "Epoch 23/100\n",
            "240/240 [==============================] - 0s 2ms/step - loss: 28.5198\n",
            "Epoch 24/100\n",
            "240/240 [==============================] - 0s 2ms/step - loss: 28.6246\n",
            "Epoch 25/100\n",
            "240/240 [==============================] - 0s 2ms/step - loss: 27.8390\n",
            "Epoch 26/100\n",
            "240/240 [==============================] - 0s 2ms/step - loss: 28.8075\n",
            "Epoch 27/100\n",
            "240/240 [==============================] - 0s 2ms/step - loss: 29.0070\n",
            "Epoch 28/100\n",
            "240/240 [==============================] - 0s 1ms/step - loss: 27.5994\n",
            "Epoch 29/100\n",
            "240/240 [==============================] - 0s 1ms/step - loss: 27.3437\n",
            "Epoch 30/100\n",
            "240/240 [==============================] - 0s 2ms/step - loss: 29.4861\n",
            "Epoch 31/100\n",
            "240/240 [==============================] - 0s 2ms/step - loss: 28.5201\n",
            "Epoch 32/100\n",
            "240/240 [==============================] - 0s 1ms/step - loss: 27.6224\n",
            "Epoch 33/100\n",
            "240/240 [==============================] - 0s 1ms/step - loss: 27.8749\n",
            "Epoch 34/100\n",
            "240/240 [==============================] - 0s 1ms/step - loss: 28.4109\n",
            "Epoch 35/100\n",
            "240/240 [==============================] - 0s 1ms/step - loss: 27.2197\n",
            "Epoch 36/100\n",
            "240/240 [==============================] - 0s 1ms/step - loss: 27.1817\n",
            "Epoch 37/100\n",
            "240/240 [==============================] - 0s 1ms/step - loss: 28.4151\n",
            "Epoch 38/100\n",
            "240/240 [==============================] - 0s 1ms/step - loss: 27.1820\n",
            "Epoch 39/100\n",
            "240/240 [==============================] - 0s 1ms/step - loss: 28.4324\n",
            "Epoch 40/100\n",
            "240/240 [==============================] - 0s 1ms/step - loss: 27.4330\n",
            "Epoch 41/100\n",
            "240/240 [==============================] - 0s 1ms/step - loss: 27.2859\n",
            "Epoch 42/100\n",
            "240/240 [==============================] - 0s 1ms/step - loss: 27.1983\n",
            "Epoch 43/100\n",
            "240/240 [==============================] - 0s 1ms/step - loss: 28.0356\n",
            "Epoch 44/100\n",
            "240/240 [==============================] - 0s 1ms/step - loss: 27.5909\n",
            "Epoch 45/100\n",
            "240/240 [==============================] - 0s 1ms/step - loss: 27.5731\n",
            "Epoch 46/100\n",
            "240/240 [==============================] - 0s 1ms/step - loss: 28.7995\n",
            "Epoch 47/100\n",
            "240/240 [==============================] - 0s 1ms/step - loss: 28.2207\n",
            "Epoch 48/100\n",
            "240/240 [==============================] - 0s 1ms/step - loss: 27.2213\n",
            "Epoch 49/100\n",
            "240/240 [==============================] - 0s 2ms/step - loss: 26.9172\n",
            "Epoch 50/100\n",
            "240/240 [==============================] - 0s 1ms/step - loss: 26.7761\n",
            "Epoch 51/100\n",
            "240/240 [==============================] - 0s 1ms/step - loss: 27.3808\n",
            "Epoch 52/100\n",
            "240/240 [==============================] - 0s 1ms/step - loss: 28.6657\n",
            "Epoch 53/100\n",
            "240/240 [==============================] - 0s 1ms/step - loss: 27.4762\n",
            "Epoch 54/100\n",
            "240/240 [==============================] - 0s 1ms/step - loss: 27.0060\n",
            "Epoch 55/100\n",
            "240/240 [==============================] - 0s 1ms/step - loss: 28.3269\n",
            "Epoch 56/100\n",
            "240/240 [==============================] - 0s 1ms/step - loss: 27.1857\n",
            "Epoch 57/100\n",
            "240/240 [==============================] - 0s 1ms/step - loss: 27.2510\n",
            "Epoch 58/100\n",
            "240/240 [==============================] - 0s 1ms/step - loss: 27.6183\n",
            "Epoch 59/100\n",
            "240/240 [==============================] - 0s 1ms/step - loss: 28.2262\n",
            "Epoch 60/100\n",
            "240/240 [==============================] - 0s 1ms/step - loss: 26.8341\n",
            "Epoch 61/100\n",
            "240/240 [==============================] - 0s 2ms/step - loss: 27.4209\n",
            "Epoch 62/100\n",
            "240/240 [==============================] - 0s 1ms/step - loss: 28.1695\n",
            "Epoch 63/100\n",
            "240/240 [==============================] - 0s 2ms/step - loss: 26.8486\n",
            "Epoch 64/100\n",
            "240/240 [==============================] - 0s 2ms/step - loss: 26.9241\n",
            "Epoch 65/100\n",
            "240/240 [==============================] - 0s 1ms/step - loss: 27.6372\n",
            "Epoch 66/100\n",
            "240/240 [==============================] - 0s 1ms/step - loss: 28.3826\n",
            "Epoch 67/100\n",
            "240/240 [==============================] - 0s 1ms/step - loss: 27.8124\n",
            "Epoch 68/100\n",
            "240/240 [==============================] - 0s 1ms/step - loss: 27.5357\n",
            "Epoch 69/100\n",
            "240/240 [==============================] - 0s 1ms/step - loss: 27.1369\n",
            "Epoch 70/100\n",
            "240/240 [==============================] - 0s 1ms/step - loss: 27.4087\n",
            "Epoch 71/100\n",
            "240/240 [==============================] - 0s 1ms/step - loss: 27.6601\n",
            "Epoch 72/100\n",
            "240/240 [==============================] - 0s 1ms/step - loss: 26.8945\n",
            "Epoch 73/100\n",
            "240/240 [==============================] - 0s 1ms/step - loss: 28.2735\n",
            "Epoch 74/100\n",
            "240/240 [==============================] - 0s 1ms/step - loss: 28.4563\n",
            "Epoch 75/100\n",
            "240/240 [==============================] - 0s 1ms/step - loss: 26.9855\n",
            "Epoch 76/100\n",
            "240/240 [==============================] - 0s 1ms/step - loss: 27.2490\n",
            "Epoch 77/100\n",
            "240/240 [==============================] - 0s 1ms/step - loss: 28.2138\n",
            "Epoch 78/100\n",
            "240/240 [==============================] - 0s 1ms/step - loss: 26.8790\n",
            "Epoch 79/100\n",
            "240/240 [==============================] - 0s 1ms/step - loss: 28.4196\n",
            "Epoch 80/100\n",
            "240/240 [==============================] - 0s 1ms/step - loss: 27.3340\n",
            "Epoch 81/100\n",
            "240/240 [==============================] - 0s 1ms/step - loss: 27.0726\n",
            "Epoch 82/100\n",
            "240/240 [==============================] - 0s 1ms/step - loss: 27.1529\n",
            "Epoch 83/100\n",
            "240/240 [==============================] - 0s 1ms/step - loss: 28.3174\n",
            "Epoch 84/100\n",
            "240/240 [==============================] - 0s 1ms/step - loss: 27.2433\n",
            "Epoch 85/100\n",
            "240/240 [==============================] - 0s 1ms/step - loss: 27.5697\n",
            "Epoch 86/100\n",
            "240/240 [==============================] - 0s 1ms/step - loss: 26.9415\n",
            "Epoch 87/100\n",
            "240/240 [==============================] - 0s 1ms/step - loss: 27.5168\n",
            "Epoch 88/100\n",
            "240/240 [==============================] - 0s 1ms/step - loss: 28.0864\n",
            "Epoch 89/100\n",
            "240/240 [==============================] - 0s 1ms/step - loss: 27.3644\n",
            "Epoch 90/100\n",
            "240/240 [==============================] - 0s 1ms/step - loss: 27.4424\n",
            "Epoch 91/100\n",
            "240/240 [==============================] - 0s 1ms/step - loss: 27.6334\n",
            "Epoch 92/100\n",
            "240/240 [==============================] - 0s 2ms/step - loss: 27.1748\n",
            "Epoch 93/100\n",
            "240/240 [==============================] - 0s 1ms/step - loss: 27.8685\n",
            "Epoch 94/100\n",
            "240/240 [==============================] - 0s 1ms/step - loss: 27.3354\n",
            "Epoch 95/100\n",
            "240/240 [==============================] - 0s 1ms/step - loss: 27.0562\n",
            "Epoch 96/100\n",
            "240/240 [==============================] - 0s 2ms/step - loss: 26.6471\n",
            "Epoch 97/100\n",
            "240/240 [==============================] - 0s 1ms/step - loss: 27.1152\n",
            "Epoch 98/100\n",
            "240/240 [==============================] - 0s 2ms/step - loss: 27.8969\n",
            "Epoch 99/100\n",
            "240/240 [==============================] - 0s 1ms/step - loss: 27.6260\n",
            "Epoch 100/100\n",
            "240/240 [==============================] - 0s 1ms/step - loss: 27.1280\n"
          ],
          "name": "stdout"
        },
        {
          "output_type": "execute_result",
          "data": {
            "text/plain": [
              "<tensorflow.python.keras.callbacks.History at 0x7f2128d00a10>"
            ]
          },
          "metadata": {
            "tags": []
          },
          "execution_count": 13
        }
      ]
    },
    {
      "cell_type": "markdown",
      "metadata": {
        "id": "0H0zKKNEBLD5"
      },
      "source": [
        "### Predicting the results of the Test set"
      ]
    },
    {
      "cell_type": "code",
      "metadata": {
        "colab": {
          "base_uri": "https://localhost:8080/"
        },
        "id": "AAvQQxHiTgCC",
        "outputId": "6c8770d5-82c0-484b-de10-00f21d4e44ff"
      },
      "source": [
        "y_pred = ann.predict(x_test)\n",
        "np.set_printoptions(precision=2)\n",
        "print(np.concatenate((y_test.reshape(len(y_test),1), y_pred.reshape(len(y_pred),1)),1))"
      ],
      "execution_count": 14,
      "outputs": [
        {
          "output_type": "stream",
          "text": [
            "[[431.23 432.41]\n",
            " [460.01 463.43]\n",
            " [461.14 466.92]\n",
            " ...\n",
            " [473.26 474.17]\n",
            " [438.   440.89]\n",
            " [463.28 460.12]]\n"
          ],
          "name": "stdout"
        }
      ]
    },
    {
      "cell_type": "code",
      "metadata": {
        "colab": {
          "base_uri": "https://localhost:8080/"
        },
        "id": "1SDFBOo9WSve",
        "outputId": "213ca560-be72-4bc5-b034-b3e3fc14caa9"
      },
      "source": [
        "print(ann.predict([[11.6,46.84,1058,89.2]]))"
      ],
      "execution_count": 16,
      "outputs": [
        {
          "output_type": "stream",
          "text": [
            "[[491.83]]\n"
          ],
          "name": "stdout"
        }
      ]
    }
  ]
}